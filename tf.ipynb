{
  "nbformat": 4,
  "nbformat_minor": 0,
  "metadata": {
    "colab": {
      "name": "Chess-Recognition.ipynb",
      "provenance": [],
      "collapsed_sections": []
    },
    "kernelspec": {
      "display_name": "Python 3",
      "name": "python3"
    },
    "language_info": {
      "name": "python"
    }
  },
  "cells": [
    {
      "cell_type": "code",
      "metadata": {
        "colab": {
          "base_uri": "https://localhost:8080/"
        },
        "id": "IctKXXJ0ldiU",
        "outputId": "ed94eb42-5842-4248-ce39-479f22db6a70"
      },
      "source": [
        "from google.colab import drive\n",
        "drive.mount('/content/drive')"
      ],
      "execution_count": null,
      "outputs": [
        {
          "output_type": "stream",
          "text": [
            "Drive already mounted at /content/drive; to attempt to forcibly remount, call drive.mount(\"/content/drive\", force_remount=True).\n"
          ],
          "name": "stdout"
        }
      ]
    },
    {
      "cell_type": "code",
      "metadata": {
        "id": "tHYItSsn1erP"
      },
      "source": [
        "import os\n",
        "import datetime\n",
        "\n",
        "import seaborn as sn\n",
        "import matplotlib.pyplot as plt\n",
        "import pandas as pd\n",
        "from sklearn.metrics import classification_report, confusion_matrix\n",
        "\n",
        "import numpy as np\n",
        "import tensorflow as tf\n",
        "from tensorflow import keras\n",
        "from tensorflow.keras import layers\n",
        "\n",
        "from keras.models import Sequential\n",
        "from keras.layers import Dense, Conv2D, MaxPooling2D, Flatten, Dropout\n",
        "from keras.models import Model\n",
        "from keras.applications.resnet_v2 import ResNet50V2\n",
        "from keras.applications.imagenet_utils import decode_predictions\n",
        "\n",
        "from keras.preprocessing.image import ImageDataGenerator\n",
        "from keras.callbacks import ModelCheckpoint, TensorBoard\n",
        "\n",
        "import cv2"
      ],
      "execution_count": null,
      "outputs": []
    },
    {
      "cell_type": "code",
      "metadata": {
        "id": "T1R3dVWzo7me"
      },
      "source": [
        "folder = '/content/drive/MyDrive/BIAI/assets/chess_dataset'\n",
        "image_size = (120, 120)\n",
        "batch_size = 32\n",
        "channels = 3\n",
        "epochs = 3\n",
        " \n",
        "def blur(img):\n",
        "    return (cv2.blur(img,(3, 3)))\n",
        "\n",
        "datagen = ImageDataGenerator(\n",
        "        # preprocessing_function=blur,\n",
        "        width_shift_range=0.05,\n",
        "        height_shift_range=0.05,\n",
        "        rescale=1./255,\n",
        "        brightness_range=(0.8, 1.2),\n",
        "        fill_mode='nearest')\n",
        " \n",
        "test_datagen = ImageDataGenerator(\n",
        "     preprocessing_function=blur,\n",
        "     rescale=1./255)\n",
        " \n",
        "train_gen = datagen.flow_from_directory(\n",
        "    folder + '/train4',\n",
        "    target_size = image_size,\n",
        "    batch_size = batch_size,\n",
        "    class_mode = 'categorical',\n",
        "    color_mode = 'rgb',\n",
        "    shuffle=True,\n",
        "    # save_to_dir=folder + '/generate'\n",
        ")\n",
        " \n",
        "test_gen = test_datagen.flow_from_directory(\n",
        "    folder + '/test4',\n",
        "    target_size = image_size,\n",
        "    batch_size = batch_size,\n",
        "    class_mode = 'categorical',\n",
        "    color_mode = 'rgb',\n",
        "    shuffle=False,\n",
        ")\n"
      ],
      "execution_count": null,
      "outputs": []
    },
    {
      "cell_type": "code",
      "metadata": {
        "id": "4qDpchb3xqIG"
      },
      "source": [
        "train_gen.class_indices.keys()\n",
        "test_gen.class_indices.keys()"
      ],
      "execution_count": null,
      "outputs": []
    },
    {
      "cell_type": "code",
      "metadata": {
        "id": "0vjmfRSLpao8"
      },
      "source": [
        "b_model = ResNet50V2(include_top=False, weights='imagenet',\n",
        "                     input_shape=(image_size[0],image_size[0],channels), pooling='max')\n",
        " \n",
        "for layer in b_model.layers:\n",
        "    layer.trainable = False    \n",
        " \n",
        "x = b_model.output\n",
        "x = Flatten()(x)   \n",
        "x = Dense(500, activation='relu')(x)\n",
        "x = Dropout(0.5)(x)\n",
        "x = Dense(500, activation='relu')(x)\n",
        "x = Dropout(0.5)(x)\n",
        "x = Dense(160, activation='relu')(x)\n",
        "x = Dropout(0.5)(x)\n",
        "x = Dense(80, activation='relu')(x)\n",
        "x = Dropout(0.25)(x)\n",
        "x = Dense(13, activation='softmax')(x)\n",
        " \n",
        "model = Model(inputs=b_model.input, outputs=x)\n",
        "model.compile(optimizer='adam', loss='categorical_crossentropy', metrics=['categorical_accuracy', 'accuracy'])"
      ],
      "execution_count": null,
      "outputs": []
    },
    {
      "cell_type": "code",
      "metadata": {
        "id": "H1hoZI6apcfH"
      },
      "source": [
        "dtb = datetime.datetime.now().strftime(\"%Y%m%d-%H%M%S\")\n",
        "log_dir = \"/content/drive/MyDrive/BIAI/outputs/logs/\" + dtb\n",
        "tensorboard_callback = TensorBoard(log_dir=log_dir, histogram_freq=1)\n",
        "mc = ModelCheckpoint('/content/drive/MyDrive/BIAI/outputs/models/best_model_{}.h5'.format(dtb), monitor='val_accuracy', mode='max', verbose=1, save_best_only=True)\n",
        " \n",
        "history = model.fit(train_gen,\n",
        "                    validation_data=test_gen,\n",
        "                    verbose = 1,\n",
        "                    epochs=epochs,\n",
        "                    callbacks=[tensorboard_callback, mc])\n",
        " \n",
        "model.save_weights('/content/drive/MyDrive/BIAI/outputs/models/model_ResNet50V2_{}.h5'.format(dtb))\n",
        "model.save(os.path.join('/content/drive/MyDrive/BIAI/outputs/models', 'chess-piece-{}.model'.format(dtb)))"
      ],
      "execution_count": null,
      "outputs": []
    },
    {
      "cell_type": "code",
      "metadata": {
        "id": "sdQqFTDTpmOT"
      },
      "source": [
        "plt.plot(history.history['categorical_accuracy'], '--')\n",
        "plt.plot(history.history['val_categorical_accuracy'], '-')\n",
        " \n",
        "plt.title('Categorical Accuracy vs Epoch')\n",
        "plt.xlabel('Epoch')\n",
        "plt.ylabel('Categorical Accuracy')\n",
        "plt.legend(['Train', 'Validation']);"
      ],
      "execution_count": null,
      "outputs": []
    },
    {
      "cell_type": "code",
      "metadata": {
        "id": "yvhYu8Xb4mK9"
      },
      "source": [
        "plt.plot(history.history['loss'], '--')\n",
        "plt.plot(history.history['val_loss'], '-')\n",
        " \n",
        "plt.title('Loss vs Epoch')\n",
        "plt.xlabel('Epoch')\n",
        "plt.ylabel('Loss')\n",
        "plt.legend(['Train', 'Validation']);"
      ],
      "execution_count": null,
      "outputs": []
    },
    {
      "cell_type": "code",
      "metadata": {
        "id": "g_fEOlib4_0J"
      },
      "source": [
        "plt.plot(history.history['categorical_accuracy'], '--')\n",
        "plt.plot(history.history['loss'], '--')\n",
        "plt.plot(history.history['val_loss'], '-')\n",
        "plt.plot(history.history['val_categorical_accuracy'], '-')\n",
        " \n",
        "plt.title('Accuracy & Loss vs Epoch')\n",
        "plt.xlabel('Epoch')\n",
        "plt.ylabel('Accuracy & Loss')\n",
        "plt.legend(['Train Accuracy',  'Train Loss', 'Validation Accuracy', 'Validation Loss']);"
      ],
      "execution_count": null,
      "outputs": []
    },
    {
      "cell_type": "code",
      "metadata": {
        "id": "i7L3jq6ZprLI"
      },
      "source": [
        "labels_names = ['bb', 'bk', 'bn', 'bp', 'bq', 'br', 'em', 'wb', 'wk', 'wn', 'wp', 'wq', 'wr']\n",
        " \n",
        "test_gen.reset()\n",
        "Y = model.predict_generator(test_gen)\n",
        "cls = test_gen.classes[test_gen.index_array]\n",
        "y = np.argmax(Y, axis= -1)\n",
        " \n",
        " \n",
        "data = confusion_matrix(cls, y)\n",
        "df_cm = pd.DataFrame(data, columns=labels_names, index = labels_names)\n",
        "df_cm.index.name = 'Source'\n",
        "df_cm.columns.name = 'Model Prediction'\n",
        "plt.figure(figsize = (16,10))\n",
        "sn.set(font_scale=1.0)\n",
        "sn.heatmap(df_cm, cmap=\"Greens\", annot=True,annot_kws={\"size\": 12})"
      ],
      "execution_count": null,
      "outputs": []
    },
    {
      "cell_type": "code",
      "metadata": {
        "id": "FTQMxG5Wg-Kr"
      },
      "source": [
        "print(data)\n",
        "print(classification_report(test_gen.classes[test_gen.index_array], y, target_names=labels_names))"
      ],
      "execution_count": null,
      "outputs": []
    },
    {
      "cell_type": "code",
      "metadata": {
        "id": "vEPNNNIE4J7b"
      },
      "source": [
        "print(\"Evaluate data\")\n",
        "result = model.evaluate(test_gen, verbose=1)\n",
        "print(\"test loss, test acc:\", result)"
      ],
      "execution_count": null,
      "outputs": []
    }
  ]
}
